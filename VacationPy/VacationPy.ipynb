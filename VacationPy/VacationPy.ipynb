{
 "cells": [
  {
   "cell_type": "code",
   "execution_count": 306,
   "metadata": {},
   "outputs": [],
   "source": [
    "### Dependencies and Setup\n",
    "import csv\n",
    "import matplotlib.pyplot as plt\n",
    "import pandas as pd\n",
    "import numpy as np\n",
    "import requests\n",
    "import time\n",
    "from scipy import stats\n",
    "from scipy.stats import linregress\n",
    "import gmaps\n",
    "import os\n",
    "import json\n",
    "import pprint as pprint\n",
    "\n",
    "#import api key\n",
    "from api_keys import gmaps_api_key"
   ]
  },
  {
   "cell_type": "code",
   "execution_count": 307,
   "metadata": {},
   "outputs": [],
   "source": [
    "#read in the csv file from WeatherPy for city data\n",
    "location_data = pd.read_csv('../WeatherPy/output_data/cities.csv')"
   ]
  },
  {
   "cell_type": "code",
   "execution_count": 308,
   "metadata": {},
   "outputs": [],
   "source": [
    "#pull in api key\n",
    "gmaps.configure(api_key=gmaps_api_key)"
   ]
  },
  {
   "cell_type": "code",
   "execution_count": 309,
   "metadata": {},
   "outputs": [],
   "source": [
    "#create heat map for humidity\n",
    "#store lat and lng into locations\n",
    "locations = location_data[['Latitude', 'Longitude']].astype(float)\n",
    "#convert humidity to float and store\n",
    "humidity = location_data['Humidity'].astype(float)"
   ]
  },
  {
   "cell_type": "code",
   "execution_count": 310,
   "metadata": {},
   "outputs": [],
   "source": [
    "#create humidity heatmap layer\n",
    "humidity_layer = gmaps.heatmap_layer(locations, weights=humidity, dissipating=False, max_intensity=100, point_radius=2)"
   ]
  },
  {
   "cell_type": "code",
   "execution_count": 311,
   "metadata": {},
   "outputs": [],
   "source": [
    "#locate row based on my ideal climate for vacation\n",
    "#upper and lower temp limits\n",
    "ideal_spot = location_data.loc[(location_data['Temperature'] >= 70) & (location_data['Temperature'] <= 80)]\n",
    "#wind speed limit\n",
    "ideal_spot_2 = ideal_spot.loc[ideal_spot['Wind Speed'] <= 15]\n",
    "#cloudiness limit\n",
    "ideal_vacation= ideal_spot_2.loc[ideal_spot_2['Cloudiness'] <= 15]"
   ]
  },
  {
   "cell_type": "code",
   "execution_count": 312,
   "metadata": {},
   "outputs": [],
   "source": [
    "#skip SettingWithCopyWarning, no writes back to the original frame\n",
    "pd.options.mode.chained_assignment = None \n",
    "\n",
    "#add column for hotel name\n",
    "ideal_vacation['Hotel Name'] = ''"
   ]
  },
  {
   "cell_type": "code",
   "execution_count": 313,
   "metadata": {},
   "outputs": [
    {
     "name": "stdout",
     "output_type": "stream",
     "text": [
      "Missing field/result... skipping.\n"
     ]
    }
   ],
   "source": [
    "#dictionary to update each iteration\n",
    "params = {\n",
    "    'radius': 5000,\n",
    "    'types': 'hotel',\n",
    "    'keyword': 'hotel',\n",
    "    'key': gmaps_api_key\n",
    "}\n",
    "\n",
    "#identify hotel using lat/lng\n",
    "for index, row in ideal_vacation.iterrows():\n",
    "    lat = row['Latitude']\n",
    "    lng = row['Longitude']\n",
    "    \n",
    "    #change location while leaving original parameters in place\n",
    "    params['location'] = f'{lat},{lng}'\n",
    "    \n",
    "    #base url\n",
    "    base_url = 'https://maps.googleapis.com/maps/api/place/nearbysearch/json'\n",
    "    \n",
    "    #make request and print URL\n",
    "    name_address = requests.get(base_url, params=params)\n",
    "    \n",
    "    #convert to json\n",
    "    name_address = name_address.json()\n",
    "\n",
    "    #try loop to skip rows with missing values\n",
    "    try:\n",
    "        ideal_vacation.loc[index, 'Hotel Name'] = name_address['results'][0]['name']\n",
    "    except (KeyError, IndexError):\n",
    "        print('Missing field/result... skipping.')"
   ]
  },
  {
   "cell_type": "code",
   "execution_count": 314,
   "metadata": {},
   "outputs": [],
   "source": [
    "#convert rows with no hotel name to NAN the drop them\n",
    "ideal_vacation['Hotel Name'] = ideal_vacation['Hotel Name'].replace(\"\", np.nan)\n",
    "ideal_vacation = ideal_vacation.dropna(axis=0, subset=['Hotel Name'])\n",
    "ideal_vacation\n",
    "ideal_vacation.to_csv('output_data/ideal_vacation.csv', index=False)"
   ]
  },
  {
   "cell_type": "code",
   "execution_count": 315,
   "metadata": {},
   "outputs": [],
   "source": [
    "# NOTE: Do not change any of the code in this cell\n",
    "\n",
    "# Using the template add the hotel marks to the heatmap\n",
    "info_box_template = \"\"\"\n",
    "<dl>\n",
    "<dt>Name</dt><dd>{Hotel Name}</dd>\n",
    "<dt>City</dt><dd>{City}</dd>\n",
    "<dt>Country</dt><dd>{Country}</dd>\n",
    "</dl>\n",
    "\"\"\"\n",
    "# Store the DataFrame Row\n",
    "# NOTE: be sure to update with your DataFrame name\n",
    "hotel_info = [info_box_template.format(**row) for index, row in ideal_vacation.iterrows()]\n",
    "locations = ideal_vacation[[\"Latitude\", \"Longitude\"]]"
   ]
  },
  {
   "cell_type": "code",
   "execution_count": 316,
   "metadata": {},
   "outputs": [],
   "source": [
    "#Add info for hover boxes on map markers\n",
    "hover_box_template = \"\"\"Name: {Hotel Name}\n",
    "City: {City}\n",
    "Country: {Country}\"\"\"\n",
    "hover_info = [hover_box_template.format(**row) for index, row in ideal_vacation.iterrows()]\n",
    "locations = ideal_vacation[[\"Latitude\", \"Longitude\"]]"
   ]
  },
  {
   "cell_type": "code",
   "execution_count": 321,
   "metadata": {},
   "outputs": [],
   "source": [
    "#build hotel layer for map markers\n",
    "hotel_layer = gmaps.marker_layer(locations, info_box_content = hotel_info, hover_text = hover_info)"
   ]
  },
  {
   "cell_type": "code",
   "execution_count": 322,
   "metadata": {},
   "outputs": [
    {
     "data": {
      "application/vnd.jupyter.widget-view+json": {
       "model_id": "4282405124cd437cb25715f9d6e58dc9",
       "version_major": 2,
       "version_minor": 0
      },
      "text/plain": [
       "Figure(layout=FigureLayout(height='420px'))"
      ]
     },
     "metadata": {},
     "output_type": "display_data"
    }
   ],
   "source": [
    "#create a combined mp\n",
    "fig = gmaps.figure(zoom_level=2, center=(0, 0))\n",
    "\n",
    "#humidity layer\n",
    "fig.add_layer(humidity_layer)\n",
    "#hotel layer\n",
    "fig.add_layer(hotel_layer)\n",
    "\n",
    "fig"
   ]
  },
  {
   "cell_type": "code",
   "execution_count": null,
   "metadata": {},
   "outputs": [],
   "source": []
  }
 ],
 "metadata": {
  "kernelspec": {
   "display_name": "Python 3",
   "language": "python",
   "name": "python3"
  },
  "language_info": {
   "codemirror_mode": {
    "name": "ipython",
    "version": 3
   },
   "file_extension": ".py",
   "mimetype": "text/x-python",
   "name": "python",
   "nbconvert_exporter": "python",
   "pygments_lexer": "ipython3",
   "version": "3.7.4"
  }
 },
 "nbformat": 4,
 "nbformat_minor": 2
}
